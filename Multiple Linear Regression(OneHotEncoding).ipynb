{
 "cells": [
  {
   "cell_type": "markdown",
   "id": "048046f0",
   "metadata": {},
   "source": [
    "## CASE STUDY: Multiple Linear Regression"
   ]
  },
  {
   "cell_type": "markdown",
   "id": "06aeb558",
   "metadata": {},
   "source": [
    "- This study involves prediction of car price based on multiple features (numerical and catergorical)\n",
    "- The study also demonstrate how to encode categorical variable using ColumnTransformer and make_column_transformer module"
   ]
  },
  {
   "cell_type": "code",
   "execution_count": 55,
   "id": "b5276ce9",
   "metadata": {},
   "outputs": [],
   "source": [
    "# import the packages\n",
    "import pandas as pd\n",
    "import numpy as np\n",
    "import matplotlib.pyplot as plt\n",
    "%matplotlib inline\n",
    "import seaborn as sns\n",
    "from sklearn.linear_model import LinearRegression"
   ]
  },
  {
   "cell_type": "code",
   "execution_count": 56,
   "id": "43838451",
   "metadata": {},
   "outputs": [],
   "source": [
    "# load the dataset\n",
    "df = pd.read_csv('car_price.csv')"
   ]
  },
  {
   "cell_type": "code",
   "execution_count": 57,
   "id": "f38a5418",
   "metadata": {},
   "outputs": [
    {
     "data": {
      "text/html": [
       "<div>\n",
       "<style scoped>\n",
       "    .dataframe tbody tr th:only-of-type {\n",
       "        vertical-align: middle;\n",
       "    }\n",
       "\n",
       "    .dataframe tbody tr th {\n",
       "        vertical-align: top;\n",
       "    }\n",
       "\n",
       "    .dataframe thead th {\n",
       "        text-align: right;\n",
       "    }\n",
       "</style>\n",
       "<table border=\"1\" class=\"dataframe\">\n",
       "  <thead>\n",
       "    <tr style=\"text-align: right;\">\n",
       "      <th></th>\n",
       "      <th>Car Model</th>\n",
       "      <th>Mileage</th>\n",
       "      <th>Sell Price($)</th>\n",
       "      <th>Age(yrs)</th>\n",
       "    </tr>\n",
       "  </thead>\n",
       "  <tbody>\n",
       "    <tr>\n",
       "      <th>0</th>\n",
       "      <td>BMW X5</td>\n",
       "      <td>69000</td>\n",
       "      <td>18000</td>\n",
       "      <td>6</td>\n",
       "    </tr>\n",
       "    <tr>\n",
       "      <th>1</th>\n",
       "      <td>BMW X5</td>\n",
       "      <td>35000</td>\n",
       "      <td>34000</td>\n",
       "      <td>3</td>\n",
       "    </tr>\n",
       "    <tr>\n",
       "      <th>2</th>\n",
       "      <td>BMW X5</td>\n",
       "      <td>57000</td>\n",
       "      <td>26100</td>\n",
       "      <td>5</td>\n",
       "    </tr>\n",
       "    <tr>\n",
       "      <th>3</th>\n",
       "      <td>BMW X5</td>\n",
       "      <td>22500</td>\n",
       "      <td>40000</td>\n",
       "      <td>2</td>\n",
       "    </tr>\n",
       "    <tr>\n",
       "      <th>4</th>\n",
       "      <td>BMW X5</td>\n",
       "      <td>46000</td>\n",
       "      <td>31500</td>\n",
       "      <td>4</td>\n",
       "    </tr>\n",
       "  </tbody>\n",
       "</table>\n",
       "</div>"
      ],
      "text/plain": [
       "  Car Model  Mileage  Sell Price($)  Age(yrs)\n",
       "0    BMW X5    69000          18000         6\n",
       "1    BMW X5    35000          34000         3\n",
       "2    BMW X5    57000          26100         5\n",
       "3    BMW X5    22500          40000         2\n",
       "4    BMW X5    46000          31500         4"
      ]
     },
     "execution_count": 57,
     "metadata": {},
     "output_type": "execute_result"
    }
   ],
   "source": [
    "# display the first few rows\n",
    "df.head()"
   ]
  },
  {
   "cell_type": "markdown",
   "id": "be0b7e69",
   "metadata": {},
   "source": [
    "### Data Wrangling"
   ]
  },
  {
   "cell_type": "code",
   "execution_count": 58,
   "id": "93594c85",
   "metadata": {},
   "outputs": [
    {
     "data": {
      "text/plain": [
       "(13, 4)"
      ]
     },
     "execution_count": 58,
     "metadata": {},
     "output_type": "execute_result"
    }
   ],
   "source": [
    "# shape of the dataset\n",
    "df.shape"
   ]
  },
  {
   "cell_type": "code",
   "execution_count": 59,
   "id": "104460ad",
   "metadata": {},
   "outputs": [
    {
     "data": {
      "text/plain": [
       "Car Model        0\n",
       "Mileage          0\n",
       "Sell Price($)    0\n",
       "Age(yrs)         0\n",
       "dtype: int64"
      ]
     },
     "execution_count": 59,
     "metadata": {},
     "output_type": "execute_result"
    }
   ],
   "source": [
    "# checking the missing values\n",
    "df.isna().sum()"
   ]
  },
  {
   "cell_type": "code",
   "execution_count": 60,
   "id": "eab8b826",
   "metadata": {},
   "outputs": [
    {
     "data": {
      "text/plain": [
       "0"
      ]
     },
     "execution_count": 60,
     "metadata": {},
     "output_type": "execute_result"
    }
   ],
   "source": [
    "# checking for duplicated values\n",
    "df.duplicated().sum()"
   ]
  },
  {
   "cell_type": "code",
   "execution_count": 61,
   "id": "94966e3c",
   "metadata": {},
   "outputs": [],
   "source": [
    "#Renaming the columns\n",
    "df = df.rename(columns={\n",
    "    'Car Model': 'car_model',\n",
    "    'Mileage' : 'mileage',\n",
    "    'Sell Price($)' : 'price',\n",
    "    'Age(yrs)': 'age'\n",
    "})"
   ]
  },
  {
   "cell_type": "code",
   "execution_count": 62,
   "id": "cff28fe7",
   "metadata": {},
   "outputs": [
    {
     "data": {
      "text/html": [
       "<div>\n",
       "<style scoped>\n",
       "    .dataframe tbody tr th:only-of-type {\n",
       "        vertical-align: middle;\n",
       "    }\n",
       "\n",
       "    .dataframe tbody tr th {\n",
       "        vertical-align: top;\n",
       "    }\n",
       "\n",
       "    .dataframe thead th {\n",
       "        text-align: right;\n",
       "    }\n",
       "</style>\n",
       "<table border=\"1\" class=\"dataframe\">\n",
       "  <thead>\n",
       "    <tr style=\"text-align: right;\">\n",
       "      <th></th>\n",
       "      <th>car_model</th>\n",
       "      <th>mileage</th>\n",
       "      <th>price</th>\n",
       "      <th>age</th>\n",
       "    </tr>\n",
       "  </thead>\n",
       "  <tbody>\n",
       "    <tr>\n",
       "      <th>0</th>\n",
       "      <td>BMW X5</td>\n",
       "      <td>69000</td>\n",
       "      <td>18000</td>\n",
       "      <td>6</td>\n",
       "    </tr>\n",
       "    <tr>\n",
       "      <th>1</th>\n",
       "      <td>BMW X5</td>\n",
       "      <td>35000</td>\n",
       "      <td>34000</td>\n",
       "      <td>3</td>\n",
       "    </tr>\n",
       "    <tr>\n",
       "      <th>2</th>\n",
       "      <td>BMW X5</td>\n",
       "      <td>57000</td>\n",
       "      <td>26100</td>\n",
       "      <td>5</td>\n",
       "    </tr>\n",
       "    <tr>\n",
       "      <th>3</th>\n",
       "      <td>BMW X5</td>\n",
       "      <td>22500</td>\n",
       "      <td>40000</td>\n",
       "      <td>2</td>\n",
       "    </tr>\n",
       "    <tr>\n",
       "      <th>4</th>\n",
       "      <td>BMW X5</td>\n",
       "      <td>46000</td>\n",
       "      <td>31500</td>\n",
       "      <td>4</td>\n",
       "    </tr>\n",
       "  </tbody>\n",
       "</table>\n",
       "</div>"
      ],
      "text/plain": [
       "  car_model  mileage  price  age\n",
       "0    BMW X5    69000  18000    6\n",
       "1    BMW X5    35000  34000    3\n",
       "2    BMW X5    57000  26100    5\n",
       "3    BMW X5    22500  40000    2\n",
       "4    BMW X5    46000  31500    4"
      ]
     },
     "execution_count": 62,
     "metadata": {},
     "output_type": "execute_result"
    }
   ],
   "source": [
    "#confirming columns has been renamed\n",
    "df.head()"
   ]
  },
  {
   "cell_type": "code",
   "execution_count": 63,
   "id": "14dacc23",
   "metadata": {},
   "outputs": [
    {
     "data": {
      "text/plain": [
       "car_model    object\n",
       "mileage       int64\n",
       "price         int64\n",
       "age           int64\n",
       "dtype: object"
      ]
     },
     "execution_count": 63,
     "metadata": {},
     "output_type": "execute_result"
    }
   ],
   "source": [
    "# checking datatypes\n",
    "df.dtypes"
   ]
  },
  {
   "cell_type": "code",
   "execution_count": 64,
   "id": "f25c862e",
   "metadata": {},
   "outputs": [
    {
     "data": {
      "text/plain": [
       "array(['BMW X5', 'Audi A5', 'Mercedez Benz C class'], dtype=object)"
      ]
     },
     "execution_count": 64,
     "metadata": {},
     "output_type": "execute_result"
    }
   ],
   "source": [
    "#checking the unique values in the car_model\n",
    "df['car_model'].unique()"
   ]
  },
  {
   "cell_type": "markdown",
   "id": "19b149a7",
   "metadata": {},
   "source": [
    "### Data Exploration"
   ]
  },
  {
   "cell_type": "code",
   "execution_count": 65,
   "id": "83284e63",
   "metadata": {},
   "outputs": [
    {
     "data": {
      "image/png": "[encoded data removed]",
      "text/plain": [
       "<Figure size 540x540 with 12 Axes>"
      ]
     },
     "metadata": {
      "needs_background": "light"
     },
     "output_type": "display_data"
    }
   ],
   "source": [
    "# plotting a pairGrid scatter plot\n",
    "\n",
    "var = ['mileage', 'price', 'age']\n",
    "g = sns.PairGrid(data = df, vars=var)\n",
    "g.map_offdiag(plt.scatter)\n",
    "g.map_diag(plt.hist)\n",
    "plt.show()"
   ]
  },
  {
   "cell_type": "markdown",
   "id": "512e76d6",
   "metadata": {},
   "source": [
    "- There is a linear relationship between the input features (mileage and age) and the target feature(price)"
   ]
  },
  {
   "cell_type": "markdown",
   "id": "0a2a9d96",
   "metadata": {},
   "source": [
    "### Multiple Linear Regression"
   ]
  },
  {
   "cell_type": "markdown",
   "id": "06a041d3",
   "metadata": {},
   "source": [
    "#### Data Preprocessing"
   ]
  },
  {
   "cell_type": "code",
   "execution_count": 67,
   "id": "b66a41ff",
   "metadata": {},
   "outputs": [
    {
     "data": {
      "text/html": [
       "<div>\n",
       "<style scoped>\n",
       "    .dataframe tbody tr th:only-of-type {\n",
       "        vertical-align: middle;\n",
       "    }\n",
       "\n",
       "    .dataframe tbody tr th {\n",
       "        vertical-align: top;\n",
       "    }\n",
       "\n",
       "    .dataframe thead th {\n",
       "        text-align: right;\n",
       "    }\n",
       "</style>\n",
       "<table border=\"1\" class=\"dataframe\">\n",
       "  <thead>\n",
       "    <tr style=\"text-align: right;\">\n",
       "      <th></th>\n",
       "      <th>car_model</th>\n",
       "      <th>mileage</th>\n",
       "      <th>price</th>\n",
       "      <th>age</th>\n",
       "    </tr>\n",
       "  </thead>\n",
       "  <tbody>\n",
       "    <tr>\n",
       "      <th>0</th>\n",
       "      <td>BMW X5</td>\n",
       "      <td>69000</td>\n",
       "      <td>18000</td>\n",
       "      <td>6</td>\n",
       "    </tr>\n",
       "    <tr>\n",
       "      <th>1</th>\n",
       "      <td>BMW X5</td>\n",
       "      <td>35000</td>\n",
       "      <td>34000</td>\n",
       "      <td>3</td>\n",
       "    </tr>\n",
       "    <tr>\n",
       "      <th>2</th>\n",
       "      <td>BMW X5</td>\n",
       "      <td>57000</td>\n",
       "      <td>26100</td>\n",
       "      <td>5</td>\n",
       "    </tr>\n",
       "  </tbody>\n",
       "</table>\n",
       "</div>"
      ],
      "text/plain": [
       "  car_model  mileage  price  age\n",
       "0    BMW X5    69000  18000    6\n",
       "1    BMW X5    35000  34000    3\n",
       "2    BMW X5    57000  26100    5"
      ]
     },
     "execution_count": 67,
     "metadata": {},
     "output_type": "execute_result"
    }
   ],
   "source": [
    "df.head(3)"
   ]
  },
  {
   "cell_type": "code",
   "execution_count": 69,
   "id": "3f1ec9c8",
   "metadata": {},
   "outputs": [
    {
     "data": {
      "text/plain": [
       "array([['BMW X5', 69000, 6],\n",
       "       ['BMW X5', 35000, 3],\n",
       "       ['BMW X5', 57000, 5],\n",
       "       ['BMW X5', 22500, 2],\n",
       "       ['BMW X5', 46000, 4],\n",
       "       ['Audi A5', 59000, 5],\n",
       "       ['Audi A5', 52000, 5],\n",
       "       ['Audi A5', 72000, 6],\n",
       "       ['Audi A5', 91000, 8],\n",
       "       ['Mercedez Benz C class', 67000, 6],\n",
       "       ['Mercedez Benz C class', 83000, 7],\n",
       "       ['Mercedez Benz C class', 79000, 7],\n",
       "       ['Mercedez Benz C class', 59000, 5]], dtype=object)"
      ]
     },
     "execution_count": 69,
     "metadata": {},
     "output_type": "execute_result"
    }
   ],
   "source": [
    "# create the X variable (note: X must be a 2D array)\n",
    "\n",
    "X = df[['car_model', 'mileage', 'age']].values\n",
    "X"
   ]
  },
  {
   "cell_type": "code",
   "execution_count": 70,
   "id": "5219ae94",
   "metadata": {},
   "outputs": [
    {
     "data": {
      "text/plain": [
       "0     18000\n",
       "1     34000\n",
       "2     26100\n",
       "3     40000\n",
       "4     31500\n",
       "5     29400\n",
       "6     32000\n",
       "7     19300\n",
       "8     12000\n",
       "9     22000\n",
       "10    20000\n",
       "11    21000\n",
       "12    33000\n",
       "Name: price, dtype: int64"
      ]
     },
     "execution_count": 70,
     "metadata": {},
     "output_type": "execute_result"
    }
   ],
   "source": [
    "# create the y variable\n",
    "y = df['price']\n",
    "y"
   ]
  },
  {
   "cell_type": "markdown",
   "id": "31292f74",
   "metadata": {},
   "source": [
    "### Preprocessing the Categorical variable\n",
    "#### Using Column Transformer"
   ]
  },
  {
   "cell_type": "code",
   "execution_count": 71,
   "id": "ff827a72",
   "metadata": {},
   "outputs": [],
   "source": [
    "# import the one hot encoder module\n",
    "\n",
    "from sklearn.preprocessing import OneHotEncoder"
   ]
  },
  {
   "cell_type": "code",
   "execution_count": 72,
   "id": "c010bab3",
   "metadata": {},
   "outputs": [],
   "source": [
    "#import the column transformer module\n",
    "\n",
    "from sklearn.compose import ColumnTransformer"
   ]
  },
  {
   "cell_type": "code",
   "execution_count": 73,
   "id": "6522d48b",
   "metadata": {},
   "outputs": [],
   "source": [
    "#create an object of the column transformer encoder\n",
    "ct = ColumnTransformer([(\"car_model\", OneHotEncoder(), [0])], remainder ='passthrough')"
   ]
  },
  {
   "cell_type": "code",
   "execution_count": 75,
   "id": "a8ababb1",
   "metadata": {},
   "outputs": [],
   "source": [
    "# fit_transform the X variable(input features)\n",
    "X = ct.fit_transform(X)"
   ]
  },
  {
   "cell_type": "code",
   "execution_count": 84,
   "id": "b125acf3",
   "metadata": {},
   "outputs": [
    {
     "data": {
      "text/plain": [
       "array([[0.0, 1.0, 0.0, 69000, 6],\n",
       "       [0.0, 1.0, 0.0, 35000, 3],\n",
       "       [0.0, 1.0, 0.0, 57000, 5],\n",
       "       [0.0, 1.0, 0.0, 22500, 2],\n",
       "       [0.0, 1.0, 0.0, 46000, 4],\n",
       "       [1.0, 0.0, 0.0, 59000, 5],\n",
       "       [1.0, 0.0, 0.0, 52000, 5],\n",
       "       [1.0, 0.0, 0.0, 72000, 6],\n",
       "       [1.0, 0.0, 0.0, 91000, 8],\n",
       "       [0.0, 0.0, 1.0, 67000, 6],\n",
       "       [0.0, 0.0, 1.0, 83000, 7],\n",
       "       [0.0, 0.0, 1.0, 79000, 7],\n",
       "       [0.0, 0.0, 1.0, 59000, 5]], dtype=object)"
      ]
     },
     "execution_count": 84,
     "metadata": {},
     "output_type": "execute_result"
    }
   ],
   "source": [
    "# displaying the transformed X values\n",
    "X"
   ]
  },
  {
   "cell_type": "code",
   "execution_count": 85,
   "id": "e47769ff",
   "metadata": {},
   "outputs": [],
   "source": [
    "# Creating the model\n",
    "model = LinearRegression()"
   ]
  },
  {
   "cell_type": "code",
   "execution_count": 86,
   "id": "9645af51",
   "metadata": {},
   "outputs": [
    {
     "data": {
      "text/plain": [
       "LinearRegression()"
      ]
     },
     "execution_count": 86,
     "metadata": {},
     "output_type": "execute_result"
    }
   ],
   "source": [
    "# Training the model\n",
    "model.fit(X, y)"
   ]
  },
  {
   "cell_type": "code",
   "execution_count": 88,
   "id": "dba872cd",
   "metadata": {},
   "outputs": [
    {
     "data": {
      "text/plain": [
       "0.9417050937281083"
      ]
     },
     "execution_count": 88,
     "metadata": {},
     "output_type": "execute_result"
    }
   ],
   "source": [
    "# checking the model accuracy\n",
    "model.score(X, y)"
   ]
  },
  {
   "cell_type": "markdown",
   "id": "2050fe18",
   "metadata": {},
   "source": [
    "#### Making new predictions"
   ]
  },
  {
   "cell_type": "code",
   "execution_count": 87,
   "id": "623d217a",
   "metadata": {},
   "outputs": [
    {
     "data": {
      "text/plain": [
       "array([36991.3172106])"
      ]
     },
     "execution_count": 87,
     "metadata": {},
     "output_type": "execute_result"
    }
   ],
   "source": [
    "# Predict the price of a Mercedes benz that is 4 yrs old with mileage 45000\n",
    "\n",
    "model.predict([[0, 0, 1, 45000, 4]])"
   ]
  },
  {
   "cell_type": "code",
   "execution_count": 90,
   "id": "91c35d8d",
   "metadata": {},
   "outputs": [
    {
     "data": {
      "text/plain": [
       "array([11080.74313221])"
      ]
     },
     "execution_count": 90,
     "metadata": {},
     "output_type": "execute_result"
    }
   ],
   "source": [
    "# Predict the price of a BMW X5 that is 7yrs with mileage 86000\n",
    "\n",
    "model.predict([[0, 1, 0, 86000, 7]])"
   ]
  },
  {
   "cell_type": "markdown",
   "id": "91e066b0",
   "metadata": {},
   "source": [
    "### Preprocessing the Categorical variable\n",
    "#### Using make column transformer"
   ]
  },
  {
   "cell_type": "code",
   "execution_count": 92,
   "id": "6c5aa18b",
   "metadata": {},
   "outputs": [],
   "source": [
    "# importing the make column transformer module\n",
    "from sklearn.compose import make_column_transformer"
   ]
  },
  {
   "cell_type": "code",
   "execution_count": 97,
   "id": "96c61551",
   "metadata": {},
   "outputs": [
    {
     "data": {
      "text/html": [
       "<div>\n",
       "<style scoped>\n",
       "    .dataframe tbody tr th:only-of-type {\n",
       "        vertical-align: middle;\n",
       "    }\n",
       "\n",
       "    .dataframe tbody tr th {\n",
       "        vertical-align: top;\n",
       "    }\n",
       "\n",
       "    .dataframe thead th {\n",
       "        text-align: right;\n",
       "    }\n",
       "</style>\n",
       "<table border=\"1\" class=\"dataframe\">\n",
       "  <thead>\n",
       "    <tr style=\"text-align: right;\">\n",
       "      <th></th>\n",
       "      <th>car_model</th>\n",
       "      <th>mileage</th>\n",
       "      <th>age</th>\n",
       "    </tr>\n",
       "  </thead>\n",
       "  <tbody>\n",
       "    <tr>\n",
       "      <th>0</th>\n",
       "      <td>BMW X5</td>\n",
       "      <td>69000</td>\n",
       "      <td>6</td>\n",
       "    </tr>\n",
       "    <tr>\n",
       "      <th>1</th>\n",
       "      <td>BMW X5</td>\n",
       "      <td>35000</td>\n",
       "      <td>3</td>\n",
       "    </tr>\n",
       "    <tr>\n",
       "      <th>2</th>\n",
       "      <td>BMW X5</td>\n",
       "      <td>57000</td>\n",
       "      <td>5</td>\n",
       "    </tr>\n",
       "    <tr>\n",
       "      <th>3</th>\n",
       "      <td>BMW X5</td>\n",
       "      <td>22500</td>\n",
       "      <td>2</td>\n",
       "    </tr>\n",
       "    <tr>\n",
       "      <th>4</th>\n",
       "      <td>BMW X5</td>\n",
       "      <td>46000</td>\n",
       "      <td>4</td>\n",
       "    </tr>\n",
       "    <tr>\n",
       "      <th>5</th>\n",
       "      <td>Audi A5</td>\n",
       "      <td>59000</td>\n",
       "      <td>5</td>\n",
       "    </tr>\n",
       "    <tr>\n",
       "      <th>6</th>\n",
       "      <td>Audi A5</td>\n",
       "      <td>52000</td>\n",
       "      <td>5</td>\n",
       "    </tr>\n",
       "    <tr>\n",
       "      <th>7</th>\n",
       "      <td>Audi A5</td>\n",
       "      <td>72000</td>\n",
       "      <td>6</td>\n",
       "    </tr>\n",
       "    <tr>\n",
       "      <th>8</th>\n",
       "      <td>Audi A5</td>\n",
       "      <td>91000</td>\n",
       "      <td>8</td>\n",
       "    </tr>\n",
       "    <tr>\n",
       "      <th>9</th>\n",
       "      <td>Mercedez Benz C class</td>\n",
       "      <td>67000</td>\n",
       "      <td>6</td>\n",
       "    </tr>\n",
       "    <tr>\n",
       "      <th>10</th>\n",
       "      <td>Mercedez Benz C class</td>\n",
       "      <td>83000</td>\n",
       "      <td>7</td>\n",
       "    </tr>\n",
       "    <tr>\n",
       "      <th>11</th>\n",
       "      <td>Mercedez Benz C class</td>\n",
       "      <td>79000</td>\n",
       "      <td>7</td>\n",
       "    </tr>\n",
       "    <tr>\n",
       "      <th>12</th>\n",
       "      <td>Mercedez Benz C class</td>\n",
       "      <td>59000</td>\n",
       "      <td>5</td>\n",
       "    </tr>\n",
       "  </tbody>\n",
       "</table>\n",
       "</div>"
      ],
      "text/plain": [
       "                car_model  mileage  age\n",
       "0                  BMW X5    69000    6\n",
       "1                  BMW X5    35000    3\n",
       "2                  BMW X5    57000    5\n",
       "3                  BMW X5    22500    2\n",
       "4                  BMW X5    46000    4\n",
       "5                 Audi A5    59000    5\n",
       "6                 Audi A5    52000    5\n",
       "7                 Audi A5    72000    6\n",
       "8                 Audi A5    91000    8\n",
       "9   Mercedez Benz C class    67000    6\n",
       "10  Mercedez Benz C class    83000    7\n",
       "11  Mercedez Benz C class    79000    7\n",
       "12  Mercedez Benz C class    59000    5"
      ]
     },
     "execution_count": 97,
     "metadata": {},
     "output_type": "execute_result"
    }
   ],
   "source": [
    "# creating the X variables\n",
    "\n",
    "XX = df[['car_model', 'mileage', 'age']]\n",
    "XX"
   ]
  },
  {
   "cell_type": "code",
   "execution_count": 104,
   "id": "a0014620",
   "metadata": {},
   "outputs": [],
   "source": [
    "#creating an object of the make_column_transformer module\n",
    "\n",
    "mct = make_column_transformer( (OneHotEncoder(), ['car_model']), remainder='passthrough')"
   ]
  },
  {
   "cell_type": "code",
   "execution_count": 105,
   "id": "f6101236",
   "metadata": {},
   "outputs": [],
   "source": [
    "# fit_transform the XX variable\n",
    "XX = mct.fit_transform(XX)"
   ]
  },
  {
   "cell_type": "code",
   "execution_count": 106,
   "id": "64f1a3eb",
   "metadata": {},
   "outputs": [],
   "source": [
    "# creating a model\n",
    "\n",
    "model2 = LinearRegression()"
   ]
  },
  {
   "cell_type": "code",
   "execution_count": 107,
   "id": "8d8cb083",
   "metadata": {},
   "outputs": [
    {
     "data": {
      "text/plain": [
       "LinearRegression()"
      ]
     },
     "execution_count": 107,
     "metadata": {},
     "output_type": "execute_result"
    }
   ],
   "source": [
    "# Training the model\n",
    "\n",
    "model2.fit(XX, y)"
   ]
  },
  {
   "cell_type": "code",
   "execution_count": 108,
   "id": "31c5edaa",
   "metadata": {},
   "outputs": [
    {
     "data": {
      "text/plain": [
       "0.9417050937281083"
      ]
     },
     "execution_count": 108,
     "metadata": {},
     "output_type": "execute_result"
    }
   ],
   "source": [
    "# Checking the accuracy of the model\n",
    "\n",
    "model2.score(XX, y)"
   ]
  },
  {
   "cell_type": "code",
   "execution_count": 109,
   "id": "b14ccb8b",
   "metadata": {},
   "outputs": [
    {
     "data": {
      "text/plain": [
       "array([[0.00e+00, 1.00e+00, 0.00e+00, 6.90e+04, 6.00e+00],\n",
       "       [0.00e+00, 1.00e+00, 0.00e+00, 3.50e+04, 3.00e+00],\n",
       "       [0.00e+00, 1.00e+00, 0.00e+00, 5.70e+04, 5.00e+00],\n",
       "       [0.00e+00, 1.00e+00, 0.00e+00, 2.25e+04, 2.00e+00],\n",
       "       [0.00e+00, 1.00e+00, 0.00e+00, 4.60e+04, 4.00e+00],\n",
       "       [1.00e+00, 0.00e+00, 0.00e+00, 5.90e+04, 5.00e+00],\n",
       "       [1.00e+00, 0.00e+00, 0.00e+00, 5.20e+04, 5.00e+00],\n",
       "       [1.00e+00, 0.00e+00, 0.00e+00, 7.20e+04, 6.00e+00],\n",
       "       [1.00e+00, 0.00e+00, 0.00e+00, 9.10e+04, 8.00e+00],\n",
       "       [0.00e+00, 0.00e+00, 1.00e+00, 6.70e+04, 6.00e+00],\n",
       "       [0.00e+00, 0.00e+00, 1.00e+00, 8.30e+04, 7.00e+00],\n",
       "       [0.00e+00, 0.00e+00, 1.00e+00, 7.90e+04, 7.00e+00],\n",
       "       [0.00e+00, 0.00e+00, 1.00e+00, 5.90e+04, 5.00e+00]])"
      ]
     },
     "execution_count": 109,
     "metadata": {},
     "output_type": "execute_result"
    }
   ],
   "source": [
    "# Displaying the transformed XX variables\n",
    "XX"
   ]
  },
  {
   "cell_type": "markdown",
   "id": "ba6f138d",
   "metadata": {},
   "source": [
    "#### Making Predictions"
   ]
  },
  {
   "cell_type": "code",
   "execution_count": 110,
   "id": "18082999",
   "metadata": {},
   "outputs": [
    {
     "data": {
      "text/plain": [
       "array([36991.3172106])"
      ]
     },
     "execution_count": 110,
     "metadata": {},
     "output_type": "execute_result"
    }
   ],
   "source": [
    "# Predict the price of a Mercedes benz that is 4 yrs old with mileage 45000\n",
    "\n",
    "model2.predict([[0, 0, 1, 45000, 4]])"
   ]
  },
  {
   "cell_type": "code",
   "execution_count": 111,
   "id": "d839fb31",
   "metadata": {},
   "outputs": [
    {
     "data": {
      "text/plain": [
       "array([11080.74313221])"
      ]
     },
     "execution_count": 111,
     "metadata": {},
     "output_type": "execute_result"
    }
   ],
   "source": [
    "# Predict the price of a BMW X5 that is 7yrs with mileage 86000\n",
    "\n",
    "model2.predict([[0, 1, 0, 86000, 7]])"
   ]
  },
  {
   "cell_type": "code",
   "execution_count": null,
   "id": "6036019f",
   "metadata": {},
   "outputs": [],
   "source": []
  }
 ],
 "metadata": {
  "kernelspec": {
   "display_name": "Python 3 (ipykernel)",
   "language": "python",
   "name": "python3"
  },
  "language_info": {
   "codemirror_mode": {
    "name": "ipython",
    "version": 3
   },
   "file_extension": ".py",
   "mimetype": "text/x-python",
   "name": "python",
   "nbconvert_exporter": "python",
   "pygments_lexer": "ipython3",
   "version": "3.9.12"
  }
 },
 "nbformat": 4,
 "nbformat_minor": 5
}
